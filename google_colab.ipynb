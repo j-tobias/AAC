{
 "cells": [
  {
   "cell_type": "code",
   "execution_count": null,
   "metadata": {},
   "outputs": [],
   "source": [
    "!pip install pygit2==1.12.2\n",
    "!pip install aac-metrics\n",
    "%cd /content\n",
    "!git clone https://github.com/j-tobias/AAC.git\n",
    "%cd /content/AAC"
   ]
  }
 ],
 "metadata": {
  "language_info": {
   "name": "python"
  }
 },
 "nbformat": 4,
 "nbformat_minor": 2
}
